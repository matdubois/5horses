{
 "cells": [
  {
   "cell_type": "code",
   "execution_count": 1,
   "metadata": {},
   "outputs": [],
   "source": [
    "# Dependencies and Setup\n",
    "import matplotlib.pyplot as plt\n",
    "import pandas as pd\n",
    "import pandas as dataframe\n",
    "from matplotlib.lines import Line2D\n",
    "#from stats import median\n",
    "import plotly.plotly as py\n",
    "import plotly.figure_factory as ff\n",
    "import plotly.graph_objs as go\n",
    "import numpy as np\n",
    "import requests\n",
    "import time\n",
    "import json\n",
    "from collections import Counter"
   ]
  },
  {
   "cell_type": "code",
   "execution_count": 2,
   "metadata": {},
   "outputs": [
    {
     "data": {
      "text/html": [
       "<div>\n",
       "<style scoped>\n",
       "    .dataframe tbody tr th:only-of-type {\n",
       "        vertical-align: middle;\n",
       "    }\n",
       "\n",
       "    .dataframe tbody tr th {\n",
       "        vertical-align: top;\n",
       "    }\n",
       "\n",
       "    .dataframe thead th {\n",
       "        text-align: right;\n",
       "    }\n",
       "</style>\n",
       "<table border=\"1\" class=\"dataframe\">\n",
       "  <thead>\n",
       "    <tr style=\"text-align: right;\">\n",
       "      <th></th>\n",
       "      <th>FIPS Codes</th>\n",
       "      <th>County</th>\n",
       "      <th>percent (men)_2010</th>\n",
       "      <th>percent (women)_2010</th>\n",
       "      <th>percent (men)_2013</th>\n",
       "      <th>percent (women)_2013</th>\n",
       "      <th>Geographic area</th>\n",
       "      <th>Density_Population</th>\n",
       "      <th>Geographic Area</th>\n",
       "      <th>Density_Population_2013</th>\n",
       "    </tr>\n",
       "  </thead>\n",
       "  <tbody>\n",
       "    <tr>\n",
       "      <th>0</th>\n",
       "      <td>1001.0</td>\n",
       "      <td>Autauga County</td>\n",
       "      <td>12.1</td>\n",
       "      <td>11.6</td>\n",
       "      <td>13.6</td>\n",
       "      <td>12.4</td>\n",
       "      <td>Autauga County</td>\n",
       "      <td>91.8</td>\n",
       "      <td>Autauga County</td>\n",
       "      <td>91.8</td>\n",
       "    </tr>\n",
       "    <tr>\n",
       "      <th>1</th>\n",
       "      <td>1003.0</td>\n",
       "      <td>Baldwin County</td>\n",
       "      <td>12.4</td>\n",
       "      <td>11.3</td>\n",
       "      <td>11.7</td>\n",
       "      <td>9.2</td>\n",
       "      <td>Baldwin County</td>\n",
       "      <td>114.6</td>\n",
       "      <td>Baldwin County</td>\n",
       "      <td>114.6</td>\n",
       "    </tr>\n",
       "    <tr>\n",
       "      <th>2</th>\n",
       "      <td>1005.0</td>\n",
       "      <td>Barbour County</td>\n",
       "      <td>12.9</td>\n",
       "      <td>15.7</td>\n",
       "      <td>17.1</td>\n",
       "      <td>19.9</td>\n",
       "      <td>Barbour County</td>\n",
       "      <td>31.0</td>\n",
       "      <td>Barbour County</td>\n",
       "      <td>31.0</td>\n",
       "    </tr>\n",
       "    <tr>\n",
       "      <th>3</th>\n",
       "      <td>1007.0</td>\n",
       "      <td>Bibb County</td>\n",
       "      <td>11.0</td>\n",
       "      <td>11.3</td>\n",
       "      <td>14.8</td>\n",
       "      <td>14.9</td>\n",
       "      <td>Bibb County</td>\n",
       "      <td>36.8</td>\n",
       "      <td>Bibb County</td>\n",
       "      <td>36.8</td>\n",
       "    </tr>\n",
       "    <tr>\n",
       "      <th>4</th>\n",
       "      <td>1009.0</td>\n",
       "      <td>Blount County</td>\n",
       "      <td>14.0</td>\n",
       "      <td>13.9</td>\n",
       "      <td>15</td>\n",
       "      <td>13.1</td>\n",
       "      <td>Blount County</td>\n",
       "      <td>88.9</td>\n",
       "      <td>Blount County</td>\n",
       "      <td>88.9</td>\n",
       "    </tr>\n",
       "  </tbody>\n",
       "</table>\n",
       "</div>"
      ],
      "text/plain": [
       "   FIPS Codes          County  percent (men)_2010  percent (women)_2010  \\\n",
       "0      1001.0  Autauga County                12.1                  11.6   \n",
       "1      1003.0  Baldwin County                12.4                  11.3   \n",
       "2      1005.0  Barbour County                12.9                  15.7   \n",
       "3      1007.0     Bibb County                11.0                  11.3   \n",
       "4      1009.0   Blount County                14.0                  13.9   \n",
       "\n",
       "  percent (men)_2013 percent (women)_2013 Geographic area  Density_Population  \\\n",
       "0               13.6                 12.4  Autauga County                91.8   \n",
       "1               11.7                  9.2  Baldwin County               114.6   \n",
       "2               17.1                 19.9  Barbour County                31.0   \n",
       "3               14.8                 14.9     Bibb County                36.8   \n",
       "4                 15                 13.1   Blount County                88.9   \n",
       "\n",
       "  Geographic Area  Density_Population_2013  \n",
       "0  Autauga County                     91.8  \n",
       "1  Baldwin County                    114.6  \n",
       "2  Barbour County                     31.0  \n",
       "3     Bibb County                     36.8  \n",
       "4   Blount County                     88.9  "
      ]
     },
     "execution_count": 2,
     "metadata": {},
     "output_type": "execute_result"
    }
   ],
   "source": [
    "# read excel file\n",
    "combo = pd.read_csv(\"CDC_Census_Combo_10_13.csv\")\n",
    "combo.head()"
   ]
  },
  {
   "cell_type": "code",
   "execution_count": 3,
   "metadata": {},
   "outputs": [],
   "source": [
    "combo = combo.fillna(0)"
   ]
  },
  {
   "cell_type": "code",
   "execution_count": 8,
   "metadata": {},
   "outputs": [
    {
     "data": {
      "image/png": "[encoded data removed]",
      "text/plain": [
       "<Figure size 432x288 with 1 Axes>"
      ]
     },
     "metadata": {
      "needs_background": "light"
     },
     "output_type": "display_data"
    }
   ],
   "source": [
    "#2013 Bubble Scatter plot - Full Scale\n",
    "plt.grid(True)\n",
    "# calls columns from bubble_df\n",
    "x= combo ['percent (men)_2013']\n",
    "y= combo['Density_Population_2013']\n",
    "\n",
    "x.fillna(0, inplace=True)\n",
    "x= pd.to_numeric(x, errors='coerce')\n",
    "plt.scatter(x,y, alpha = 0.3, c=\"Blue\", linewidth=1, edgecolor = \"black\")\n",
    "\n",
    "# Create a title, x label, and y label for our chart\n",
    "plt.title(\"2013 Diabetes Prevalence in Population by County\")\n",
    "plt.xlabel(\"Percent of Male Population\")\n",
    "plt.ylabel(\"Population Density by County (per square mile)\")\n",
    "\n",
    "#define axis limits\n",
    "plt.ylim(0, 70000)\n",
    "plt.show()"
   ]
  },
  {
   "cell_type": "code",
   "execution_count": null,
   "metadata": {},
   "outputs": [],
   "source": []
  }
 ],
 "metadata": {
  "kernelspec": {
   "display_name": "Python 3",
   "language": "python",
   "name": "python3"
  },
  "language_info": {
   "codemirror_mode": {
    "name": "ipython",
    "version": 3
   },
   "file_extension": ".py",
   "mimetype": "text/x-python",
   "name": "python",
   "nbconvert_exporter": "python",
   "pygments_lexer": "ipython3",
   "version": "3.6.8"
  }
 },
 "nbformat": 4,
 "nbformat_minor": 2
}
